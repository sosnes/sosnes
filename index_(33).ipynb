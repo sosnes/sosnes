{
  "cells": [
    {
      "cell_type": "markdown",
      "metadata": {
        "id": "view-in-github",
        "colab_type": "text"
      },
      "source": [
        "<a href=\"https://colab.research.google.com/github/sosnes/sosnes/blob/main/index_(33).ipynb\" target=\"_parent\"><img src=\"https://colab.research.google.com/assets/colab-badge.svg\" alt=\"Open In Colab\"/></a>"
      ]
    },
    {
      "cell_type": "markdown",
      "metadata": {
        "id": "2L9-nR38eyZr"
      },
      "source": [
        "# Working with Known JSON Schemas - Lab"
      ]
    },
    {
      "cell_type": "markdown",
      "metadata": {
        "id": "UM-ekf0oeyZt"
      },
      "source": [
        "## Introduction\n",
        "In this lab, you'll practice working with JSON files whose schema you know beforehand."
      ]
    },
    {
      "cell_type": "markdown",
      "metadata": {
        "id": "aaAd64lDeyZt"
      },
      "source": [
        "## Objectives\n",
        "\n",
        "You will be able to:\n",
        "\n",
        "* Use the `json` module to load and parse JSON documents\n",
        "* Extract data using predefined JSON schemas\n",
        "* Convert JSON to a pandas dataframe"
      ]
    },
    {
      "cell_type": "markdown",
      "metadata": {
        "id": "erLgfHCceyZu"
      },
      "source": [
        "## Reading a JSON Schema\n",
        "\n",
        "Here's the JSON schema provided for a section of the NY Times API:\n",
        "<img src=\"images/nytimes_movie_schema.png\" width=500>\n",
        "\n",
        "or a fully expanded view:\n",
        "\n",
        "<img src=\"images/nytimes_movie_schema_detailed.png\" width=500>\n",
        "\n",
        "You can more about the documentation [here](https://developer.nytimes.com/docs/movie-reviews-api/1/routes/reviews/%7Btype%7D.json/get).\n",
        "\n"
      ]
    },
    {
      "cell_type": "markdown",
      "metadata": {
        "id": "BnWGCWRAeyZu"
      },
      "source": [
        "## Loading the JSON Data\n",
        "\n",
        "Open the JSON file located at `ny_times_movies.json`, and use the `json` module to load the data into a variable called `data`."
      ]
    },
    {
      "cell_type": "markdown",
      "metadata": {
        "id": "XC-w2Tp-eyZw"
      },
      "source": [
        "Run the code below to investigate its contents:"
      ]
    },
    {
      "cell_type": "code",
      "source": [
        "import json\n",
        "with open('ny_times_movies.json', 'r') as f:\n",
        "    data = json.load(f)"
      ],
      "metadata": {
        "id": "4gFNaAtQffUb"
      },
      "execution_count": 3,
      "outputs": []
    },
    {
      "cell_type": "code",
      "execution_count": 4,
      "metadata": {
        "colab": {
          "base_uri": "https://localhost:8080/"
        },
        "id": "S_XmV90ZeyZx",
        "outputId": "72126dbb-68a5-464f-ca28-c301f070950d"
      },
      "outputs": [
        {
          "output_type": "stream",
          "name": "stdout",
          "text": [
            "`data` has type <class 'dict'>\n",
            "The keys are ['status', 'copyright', 'has_more', 'num_results', 'results']\n"
          ]
        }
      ],
      "source": [
        "# Run this cell without changes\n",
        "print(\"`data` has type\", type(data))\n",
        "print(\"The keys are\", list(data.keys()))"
      ]
    },
    {
      "cell_type": "markdown",
      "metadata": {
        "id": "AdYh52dgeyZx"
      },
      "source": [
        "## Loading Results\n",
        "\n",
        "Create a variable `results` that contains the value associated with the `'results'` key."
      ]
    },
    {
      "cell_type": "code",
      "execution_count": 5,
      "metadata": {
        "id": "TWCAP15xeyZy"
      },
      "outputs": [],
      "source": [
        "# Your code here\n",
        "results = data['results']"
      ]
    },
    {
      "cell_type": "markdown",
      "metadata": {
        "id": "se2Gv5w8eyZy"
      },
      "source": [
        "Below we display this variable as a table using pandas:"
      ]
    },
    {
      "cell_type": "code",
      "execution_count": 6,
      "metadata": {
        "colab": {
          "base_uri": "https://localhost:8080/",
          "height": 1000
        },
        "id": "HMqo3YVveyZz",
        "outputId": "836a61c4-1403-4910-e7db-41db24cca8df"
      },
      "outputs": [
        {
          "output_type": "execute_result",
          "data": {
            "text/plain": [
              "                                      display_title mpaa_rating  critics_pick  \\\n",
              "0                           Can You Ever Forgive Me           R             1   \n",
              "1                                        Charm City                         1   \n",
              "2   Horn from the Heart: The Paul Butterfield Story                         1   \n",
              "3                           The Price of Everything                         0   \n",
              "4                                           Impulso                         0   \n",
              "5                                         Watergate                         1   \n",
              "6                                           Barbara                         1   \n",
              "7                                    Over the Limit                         1   \n",
              "8                          The Kindergarten Teacher           R             1   \n",
              "9                                  Classical Period                         1   \n",
              "10                       Bad Times at the El Royale           R             0   \n",
              "11                                    Beautiful Boy           R             0   \n",
              "12                                         The Oath           R             0   \n",
              "13                                      Bikini Moon                         0   \n",
              "14                  Goosebumps 2: Haunted Halloween          PG             0   \n",
              "15                                     The Sentence                         0   \n",
              "16                                       All Square                         0   \n",
              "17                                            Sadie                         0   \n",
              "18                                 After Everything                         0   \n",
              "19                                        First Man       PG-13             0   \n",
              "\n",
              "                 byline                                           headline  \\\n",
              "0            A.O. SCOTT  Review: Melissa McCarthy Is Criminally Good in...   \n",
              "1        BEN KENIGSBERG  Review: ‘Charm City’ Vividly Captures the Stre...   \n",
              "2           GLENN KENNY  Review: Paul Butterfield’s Story Is Told in ‘H...   \n",
              "3            A.O. SCOTT  Review: ‘The Price of Everything’ Asks $56 Bil...   \n",
              "4        BEN KENIGSBERG  Review: ‘Impulso’ Goes Backstage With a Flamen...   \n",
              "5            A.O. SCOTT  Review: ‘Watergate’ Shocks Anew With Its True ...   \n",
              "6           GLENN KENNY  Review: In ‘Barbara,’ a Fictional Biopic of a ...   \n",
              "7   JEANNETTE CATSOULIS    Review: A Russian Gymnast Goes ‘Over the Limit’   \n",
              "8   JEANNETTE CATSOULIS  Review: The Disturbing Obsession of ‘The Kinde...   \n",
              "9        BEN KENIGSBERG  Review: In ‘Classical Period,’ a Deep Dive — R...   \n",
              "10       MANOHLA DARGIS  Review: Hard-Boiled Play in ‘Bad Times at the ...   \n",
              "11           A.O. SCOTT  Review: In ‘Beautiful Boy,’ a Writer Confronts...   \n",
              "12          GLENN KENNY  Review: In ‘The Oath,’ a Pledge of Allegiance ...   \n",
              "13       KEN JAWOROWSKI  Review: ‘Bikini Moon’ Finds a Documentary Crew...   \n",
              "14           TEO BUGBEE  Review: ‘Goosebumps 2: Haunted Halloween’ Is T...   \n",
              "15       KEN JAWOROWSKI  Review: In ‘The Sentence,’ a Woman Gets Prison...   \n",
              "16          GLENN KENNY  Review: In ‘All Square,’ Taking Big Bets on Yo...   \n",
              "17       KEN JAWOROWSKI  Review: The Drama ‘Sadie’ Finds a Teenager in ...   \n",
              "18           TEO BUGBEE  Review: In ‘After Everything,’ a Young Love Bl...   \n",
              "19           A.O. SCOTT  Review: ‘First Man’ Takes a Giant Leap for Man...   \n",
              "\n",
              "                                        summary_short publication_date  \\\n",
              "0   Marielle Heller directs a true story of litera...       2018-10-16   \n",
              "1   Marilyn Ness’s documentary is dedicated to the...       2018-10-16   \n",
              "2   A documentary explores the life of the blues m...       2018-10-16   \n",
              "3   This documentary examines the global art marke...       2018-10-16   \n",
              "4   This documentary follows Rocío Molina, a cutti...       2018-10-16   \n",
              "5   Charles Ferguson delivers a comprehensive docu...       2018-10-11   \n",
              "6   It’s a film of scenes rather than of one unifi...       2018-10-11   \n",
              "7   Margarita Mamun endures injury and abuse in Ma...       2018-10-11   \n",
              "8   Maggie Gyllenhaal is riveting as a dissatisfie...       2018-10-11   \n",
              "9   This highly original feature is technically in...       2018-10-11   \n",
              "10  The writer-director Drew Goddard has fun with ...       2018-10-11   \n",
              "11  Two memoirs are brought to the screen in a fat...       2018-10-11   \n",
              "12  This satirical comedy, written, directed by an...       2018-10-11   \n",
              "13  Condola Rashad plays the title character, a ho...       2018-10-11   \n",
              "14  This sequel to the movie adaptation of R.L. St...       2018-10-11   \n",
              "15  The documentary denounces minimum sentencing l...       2018-10-11   \n",
              "16  Michael Kelly, Pamela Adlon and Josh Lucas enh...       2018-10-11   \n",
              "17  The film stars Sophia Mitri Schloss as the tit...       2018-10-11   \n",
              "18  This cancer drama focuses less on the high sta...       2018-10-11   \n",
              "19  Damien Chazelle’s sweeping and intimate yet un...       2018-10-10   \n",
              "\n",
              "   opening_date         date_updated  \\\n",
              "0    2018-10-19  2018-10-17 02:44:23   \n",
              "1    2018-04-22  2018-10-16 11:04:03   \n",
              "2    2018-10-19  2018-10-16 11:04:04   \n",
              "3    2018-10-19  2018-10-16 16:08:03   \n",
              "4          None  2018-10-16 11:04:03   \n",
              "5    2018-10-12  2018-10-17 02:44:21   \n",
              "6          None  2018-10-17 02:44:21   \n",
              "7    2018-10-05  2018-10-17 02:44:20   \n",
              "8    2018-10-12  2018-10-17 02:44:19   \n",
              "9          None  2018-10-17 02:44:18   \n",
              "10   2018-10-12  2018-10-17 02:44:22   \n",
              "11   2018-10-12  2018-10-17 02:44:21   \n",
              "12   2018-10-12  2018-10-17 02:44:21   \n",
              "13   2018-10-12  2018-10-17 02:44:20   \n",
              "14   2018-10-12  2018-10-17 02:44:20   \n",
              "15   2018-10-12  2018-10-17 02:44:19   \n",
              "16         None  2018-10-11 11:04:11   \n",
              "17   2018-10-12  2018-10-11 11:04:07   \n",
              "18   2018-10-12  2018-10-17 02:44:18   \n",
              "19   2018-10-12  2018-10-17 02:44:18   \n",
              "\n",
              "                                                 link  \\\n",
              "0   {'type': 'article', 'url': 'http://www.nytimes...   \n",
              "1   {'type': 'article', 'url': 'http://www.nytimes...   \n",
              "2   {'type': 'article', 'url': 'http://www.nytimes...   \n",
              "3   {'type': 'article', 'url': 'http://www.nytimes...   \n",
              "4   {'type': 'article', 'url': 'http://www.nytimes...   \n",
              "5   {'type': 'article', 'url': 'http://www.nytimes...   \n",
              "6   {'type': 'article', 'url': 'http://www.nytimes...   \n",
              "7   {'type': 'article', 'url': 'http://www.nytimes...   \n",
              "8   {'type': 'article', 'url': 'http://www.nytimes...   \n",
              "9   {'type': 'article', 'url': 'http://www.nytimes...   \n",
              "10  {'type': 'article', 'url': 'http://www.nytimes...   \n",
              "11  {'type': 'article', 'url': 'http://www.nytimes...   \n",
              "12  {'type': 'article', 'url': 'http://www.nytimes...   \n",
              "13  {'type': 'article', 'url': 'http://www.nytimes...   \n",
              "14  {'type': 'article', 'url': 'http://www.nytimes...   \n",
              "15  {'type': 'article', 'url': 'http://www.nytimes...   \n",
              "16  {'type': 'article', 'url': 'http://www.nytimes...   \n",
              "17  {'type': 'article', 'url': 'http://www.nytimes...   \n",
              "18  {'type': 'article', 'url': 'http://www.nytimes...   \n",
              "19  {'type': 'article', 'url': 'http://www.nytimes...   \n",
              "\n",
              "                                           multimedia  \n",
              "0   {'type': 'mediumThreeByTwo210', 'src': 'https:...  \n",
              "1   {'type': 'mediumThreeByTwo210', 'src': 'https:...  \n",
              "2   {'type': 'mediumThreeByTwo210', 'src': 'https:...  \n",
              "3   {'type': 'mediumThreeByTwo210', 'src': 'https:...  \n",
              "4   {'type': 'mediumThreeByTwo210', 'src': 'https:...  \n",
              "5   {'type': 'mediumThreeByTwo210', 'src': 'https:...  \n",
              "6   {'type': 'mediumThreeByTwo210', 'src': 'https:...  \n",
              "7   {'type': 'mediumThreeByTwo210', 'src': 'https:...  \n",
              "8   {'type': 'mediumThreeByTwo210', 'src': 'https:...  \n",
              "9   {'type': 'mediumThreeByTwo210', 'src': 'https:...  \n",
              "10  {'type': 'mediumThreeByTwo210', 'src': 'https:...  \n",
              "11  {'type': 'mediumThreeByTwo210', 'src': 'https:...  \n",
              "12  {'type': 'mediumThreeByTwo210', 'src': 'https:...  \n",
              "13  {'type': 'mediumThreeByTwo210', 'src': 'https:...  \n",
              "14  {'type': 'mediumThreeByTwo210', 'src': 'https:...  \n",
              "15  {'type': 'mediumThreeByTwo210', 'src': 'https:...  \n",
              "16  {'type': 'mediumThreeByTwo210', 'src': 'https:...  \n",
              "17  {'type': 'mediumThreeByTwo210', 'src': 'https:...  \n",
              "18  {'type': 'mediumThreeByTwo210', 'src': 'https:...  \n",
              "19  {'type': 'mediumThreeByTwo210', 'src': 'https:...  "
            ],
            "text/html": [
              "\n",
              "  <div id=\"df-3e418a0d-dd17-4385-9a0a-35224f7fe553\" class=\"colab-df-container\">\n",
              "    <div>\n",
              "<style scoped>\n",
              "    .dataframe tbody tr th:only-of-type {\n",
              "        vertical-align: middle;\n",
              "    }\n",
              "\n",
              "    .dataframe tbody tr th {\n",
              "        vertical-align: top;\n",
              "    }\n",
              "\n",
              "    .dataframe thead th {\n",
              "        text-align: right;\n",
              "    }\n",
              "</style>\n",
              "<table border=\"1\" class=\"dataframe\">\n",
              "  <thead>\n",
              "    <tr style=\"text-align: right;\">\n",
              "      <th></th>\n",
              "      <th>display_title</th>\n",
              "      <th>mpaa_rating</th>\n",
              "      <th>critics_pick</th>\n",
              "      <th>byline</th>\n",
              "      <th>headline</th>\n",
              "      <th>summary_short</th>\n",
              "      <th>publication_date</th>\n",
              "      <th>opening_date</th>\n",
              "      <th>date_updated</th>\n",
              "      <th>link</th>\n",
              "      <th>multimedia</th>\n",
              "    </tr>\n",
              "  </thead>\n",
              "  <tbody>\n",
              "    <tr>\n",
              "      <th>0</th>\n",
              "      <td>Can You Ever Forgive Me</td>\n",
              "      <td>R</td>\n",
              "      <td>1</td>\n",
              "      <td>A.O. SCOTT</td>\n",
              "      <td>Review: Melissa McCarthy Is Criminally Good in...</td>\n",
              "      <td>Marielle Heller directs a true story of litera...</td>\n",
              "      <td>2018-10-16</td>\n",
              "      <td>2018-10-19</td>\n",
              "      <td>2018-10-17 02:44:23</td>\n",
              "      <td>{'type': 'article', 'url': 'http://www.nytimes...</td>\n",
              "      <td>{'type': 'mediumThreeByTwo210', 'src': 'https:...</td>\n",
              "    </tr>\n",
              "    <tr>\n",
              "      <th>1</th>\n",
              "      <td>Charm City</td>\n",
              "      <td></td>\n",
              "      <td>1</td>\n",
              "      <td>BEN KENIGSBERG</td>\n",
              "      <td>Review: ‘Charm City’ Vividly Captures the Stre...</td>\n",
              "      <td>Marilyn Ness’s documentary is dedicated to the...</td>\n",
              "      <td>2018-10-16</td>\n",
              "      <td>2018-04-22</td>\n",
              "      <td>2018-10-16 11:04:03</td>\n",
              "      <td>{'type': 'article', 'url': 'http://www.nytimes...</td>\n",
              "      <td>{'type': 'mediumThreeByTwo210', 'src': 'https:...</td>\n",
              "    </tr>\n",
              "    <tr>\n",
              "      <th>2</th>\n",
              "      <td>Horn from the Heart: The Paul Butterfield Story</td>\n",
              "      <td></td>\n",
              "      <td>1</td>\n",
              "      <td>GLENN KENNY</td>\n",
              "      <td>Review: Paul Butterfield’s Story Is Told in ‘H...</td>\n",
              "      <td>A documentary explores the life of the blues m...</td>\n",
              "      <td>2018-10-16</td>\n",
              "      <td>2018-10-19</td>\n",
              "      <td>2018-10-16 11:04:04</td>\n",
              "      <td>{'type': 'article', 'url': 'http://www.nytimes...</td>\n",
              "      <td>{'type': 'mediumThreeByTwo210', 'src': 'https:...</td>\n",
              "    </tr>\n",
              "    <tr>\n",
              "      <th>3</th>\n",
              "      <td>The Price of Everything</td>\n",
              "      <td></td>\n",
              "      <td>0</td>\n",
              "      <td>A.O. SCOTT</td>\n",
              "      <td>Review: ‘The Price of Everything’ Asks $56 Bil...</td>\n",
              "      <td>This documentary examines the global art marke...</td>\n",
              "      <td>2018-10-16</td>\n",
              "      <td>2018-10-19</td>\n",
              "      <td>2018-10-16 16:08:03</td>\n",
              "      <td>{'type': 'article', 'url': 'http://www.nytimes...</td>\n",
              "      <td>{'type': 'mediumThreeByTwo210', 'src': 'https:...</td>\n",
              "    </tr>\n",
              "    <tr>\n",
              "      <th>4</th>\n",
              "      <td>Impulso</td>\n",
              "      <td></td>\n",
              "      <td>0</td>\n",
              "      <td>BEN KENIGSBERG</td>\n",
              "      <td>Review: ‘Impulso’ Goes Backstage With a Flamen...</td>\n",
              "      <td>This documentary follows Rocío Molina, a cutti...</td>\n",
              "      <td>2018-10-16</td>\n",
              "      <td>None</td>\n",
              "      <td>2018-10-16 11:04:03</td>\n",
              "      <td>{'type': 'article', 'url': 'http://www.nytimes...</td>\n",
              "      <td>{'type': 'mediumThreeByTwo210', 'src': 'https:...</td>\n",
              "    </tr>\n",
              "    <tr>\n",
              "      <th>5</th>\n",
              "      <td>Watergate</td>\n",
              "      <td></td>\n",
              "      <td>1</td>\n",
              "      <td>A.O. SCOTT</td>\n",
              "      <td>Review: ‘Watergate’ Shocks Anew With Its True ...</td>\n",
              "      <td>Charles Ferguson delivers a comprehensive docu...</td>\n",
              "      <td>2018-10-11</td>\n",
              "      <td>2018-10-12</td>\n",
              "      <td>2018-10-17 02:44:21</td>\n",
              "      <td>{'type': 'article', 'url': 'http://www.nytimes...</td>\n",
              "      <td>{'type': 'mediumThreeByTwo210', 'src': 'https:...</td>\n",
              "    </tr>\n",
              "    <tr>\n",
              "      <th>6</th>\n",
              "      <td>Barbara</td>\n",
              "      <td></td>\n",
              "      <td>1</td>\n",
              "      <td>GLENN KENNY</td>\n",
              "      <td>Review: In ‘Barbara,’ a Fictional Biopic of a ...</td>\n",
              "      <td>It’s a film of scenes rather than of one unifi...</td>\n",
              "      <td>2018-10-11</td>\n",
              "      <td>None</td>\n",
              "      <td>2018-10-17 02:44:21</td>\n",
              "      <td>{'type': 'article', 'url': 'http://www.nytimes...</td>\n",
              "      <td>{'type': 'mediumThreeByTwo210', 'src': 'https:...</td>\n",
              "    </tr>\n",
              "    <tr>\n",
              "      <th>7</th>\n",
              "      <td>Over the Limit</td>\n",
              "      <td></td>\n",
              "      <td>1</td>\n",
              "      <td>JEANNETTE CATSOULIS</td>\n",
              "      <td>Review: A Russian Gymnast Goes ‘Over the Limit’</td>\n",
              "      <td>Margarita Mamun endures injury and abuse in Ma...</td>\n",
              "      <td>2018-10-11</td>\n",
              "      <td>2018-10-05</td>\n",
              "      <td>2018-10-17 02:44:20</td>\n",
              "      <td>{'type': 'article', 'url': 'http://www.nytimes...</td>\n",
              "      <td>{'type': 'mediumThreeByTwo210', 'src': 'https:...</td>\n",
              "    </tr>\n",
              "    <tr>\n",
              "      <th>8</th>\n",
              "      <td>The Kindergarten Teacher</td>\n",
              "      <td>R</td>\n",
              "      <td>1</td>\n",
              "      <td>JEANNETTE CATSOULIS</td>\n",
              "      <td>Review: The Disturbing Obsession of ‘The Kinde...</td>\n",
              "      <td>Maggie Gyllenhaal is riveting as a dissatisfie...</td>\n",
              "      <td>2018-10-11</td>\n",
              "      <td>2018-10-12</td>\n",
              "      <td>2018-10-17 02:44:19</td>\n",
              "      <td>{'type': 'article', 'url': 'http://www.nytimes...</td>\n",
              "      <td>{'type': 'mediumThreeByTwo210', 'src': 'https:...</td>\n",
              "    </tr>\n",
              "    <tr>\n",
              "      <th>9</th>\n",
              "      <td>Classical Period</td>\n",
              "      <td></td>\n",
              "      <td>1</td>\n",
              "      <td>BEN KENIGSBERG</td>\n",
              "      <td>Review: In ‘Classical Period,’ a Deep Dive — R...</td>\n",
              "      <td>This highly original feature is technically in...</td>\n",
              "      <td>2018-10-11</td>\n",
              "      <td>None</td>\n",
              "      <td>2018-10-17 02:44:18</td>\n",
              "      <td>{'type': 'article', 'url': 'http://www.nytimes...</td>\n",
              "      <td>{'type': 'mediumThreeByTwo210', 'src': 'https:...</td>\n",
              "    </tr>\n",
              "    <tr>\n",
              "      <th>10</th>\n",
              "      <td>Bad Times at the El Royale</td>\n",
              "      <td>R</td>\n",
              "      <td>0</td>\n",
              "      <td>MANOHLA DARGIS</td>\n",
              "      <td>Review: Hard-Boiled Play in ‘Bad Times at the ...</td>\n",
              "      <td>The writer-director Drew Goddard has fun with ...</td>\n",
              "      <td>2018-10-11</td>\n",
              "      <td>2018-10-12</td>\n",
              "      <td>2018-10-17 02:44:22</td>\n",
              "      <td>{'type': 'article', 'url': 'http://www.nytimes...</td>\n",
              "      <td>{'type': 'mediumThreeByTwo210', 'src': 'https:...</td>\n",
              "    </tr>\n",
              "    <tr>\n",
              "      <th>11</th>\n",
              "      <td>Beautiful Boy</td>\n",
              "      <td>R</td>\n",
              "      <td>0</td>\n",
              "      <td>A.O. SCOTT</td>\n",
              "      <td>Review: In ‘Beautiful Boy,’ a Writer Confronts...</td>\n",
              "      <td>Two memoirs are brought to the screen in a fat...</td>\n",
              "      <td>2018-10-11</td>\n",
              "      <td>2018-10-12</td>\n",
              "      <td>2018-10-17 02:44:21</td>\n",
              "      <td>{'type': 'article', 'url': 'http://www.nytimes...</td>\n",
              "      <td>{'type': 'mediumThreeByTwo210', 'src': 'https:...</td>\n",
              "    </tr>\n",
              "    <tr>\n",
              "      <th>12</th>\n",
              "      <td>The Oath</td>\n",
              "      <td>R</td>\n",
              "      <td>0</td>\n",
              "      <td>GLENN KENNY</td>\n",
              "      <td>Review: In ‘The Oath,’ a Pledge of Allegiance ...</td>\n",
              "      <td>This satirical comedy, written, directed by an...</td>\n",
              "      <td>2018-10-11</td>\n",
              "      <td>2018-10-12</td>\n",
              "      <td>2018-10-17 02:44:21</td>\n",
              "      <td>{'type': 'article', 'url': 'http://www.nytimes...</td>\n",
              "      <td>{'type': 'mediumThreeByTwo210', 'src': 'https:...</td>\n",
              "    </tr>\n",
              "    <tr>\n",
              "      <th>13</th>\n",
              "      <td>Bikini Moon</td>\n",
              "      <td></td>\n",
              "      <td>0</td>\n",
              "      <td>KEN JAWOROWSKI</td>\n",
              "      <td>Review: ‘Bikini Moon’ Finds a Documentary Crew...</td>\n",
              "      <td>Condola Rashad plays the title character, a ho...</td>\n",
              "      <td>2018-10-11</td>\n",
              "      <td>2018-10-12</td>\n",
              "      <td>2018-10-17 02:44:20</td>\n",
              "      <td>{'type': 'article', 'url': 'http://www.nytimes...</td>\n",
              "      <td>{'type': 'mediumThreeByTwo210', 'src': 'https:...</td>\n",
              "    </tr>\n",
              "    <tr>\n",
              "      <th>14</th>\n",
              "      <td>Goosebumps 2: Haunted Halloween</td>\n",
              "      <td>PG</td>\n",
              "      <td>0</td>\n",
              "      <td>TEO BUGBEE</td>\n",
              "      <td>Review: ‘Goosebumps 2: Haunted Halloween’ Is T...</td>\n",
              "      <td>This sequel to the movie adaptation of R.L. St...</td>\n",
              "      <td>2018-10-11</td>\n",
              "      <td>2018-10-12</td>\n",
              "      <td>2018-10-17 02:44:20</td>\n",
              "      <td>{'type': 'article', 'url': 'http://www.nytimes...</td>\n",
              "      <td>{'type': 'mediumThreeByTwo210', 'src': 'https:...</td>\n",
              "    </tr>\n",
              "    <tr>\n",
              "      <th>15</th>\n",
              "      <td>The Sentence</td>\n",
              "      <td></td>\n",
              "      <td>0</td>\n",
              "      <td>KEN JAWOROWSKI</td>\n",
              "      <td>Review: In ‘The Sentence,’ a Woman Gets Prison...</td>\n",
              "      <td>The documentary denounces minimum sentencing l...</td>\n",
              "      <td>2018-10-11</td>\n",
              "      <td>2018-10-12</td>\n",
              "      <td>2018-10-17 02:44:19</td>\n",
              "      <td>{'type': 'article', 'url': 'http://www.nytimes...</td>\n",
              "      <td>{'type': 'mediumThreeByTwo210', 'src': 'https:...</td>\n",
              "    </tr>\n",
              "    <tr>\n",
              "      <th>16</th>\n",
              "      <td>All Square</td>\n",
              "      <td></td>\n",
              "      <td>0</td>\n",
              "      <td>GLENN KENNY</td>\n",
              "      <td>Review: In ‘All Square,’ Taking Big Bets on Yo...</td>\n",
              "      <td>Michael Kelly, Pamela Adlon and Josh Lucas enh...</td>\n",
              "      <td>2018-10-11</td>\n",
              "      <td>None</td>\n",
              "      <td>2018-10-11 11:04:11</td>\n",
              "      <td>{'type': 'article', 'url': 'http://www.nytimes...</td>\n",
              "      <td>{'type': 'mediumThreeByTwo210', 'src': 'https:...</td>\n",
              "    </tr>\n",
              "    <tr>\n",
              "      <th>17</th>\n",
              "      <td>Sadie</td>\n",
              "      <td></td>\n",
              "      <td>0</td>\n",
              "      <td>KEN JAWOROWSKI</td>\n",
              "      <td>Review: The Drama ‘Sadie’ Finds a Teenager in ...</td>\n",
              "      <td>The film stars Sophia Mitri Schloss as the tit...</td>\n",
              "      <td>2018-10-11</td>\n",
              "      <td>2018-10-12</td>\n",
              "      <td>2018-10-11 11:04:07</td>\n",
              "      <td>{'type': 'article', 'url': 'http://www.nytimes...</td>\n",
              "      <td>{'type': 'mediumThreeByTwo210', 'src': 'https:...</td>\n",
              "    </tr>\n",
              "    <tr>\n",
              "      <th>18</th>\n",
              "      <td>After Everything</td>\n",
              "      <td></td>\n",
              "      <td>0</td>\n",
              "      <td>TEO BUGBEE</td>\n",
              "      <td>Review: In ‘After Everything,’ a Young Love Bl...</td>\n",
              "      <td>This cancer drama focuses less on the high sta...</td>\n",
              "      <td>2018-10-11</td>\n",
              "      <td>2018-10-12</td>\n",
              "      <td>2018-10-17 02:44:18</td>\n",
              "      <td>{'type': 'article', 'url': 'http://www.nytimes...</td>\n",
              "      <td>{'type': 'mediumThreeByTwo210', 'src': 'https:...</td>\n",
              "    </tr>\n",
              "    <tr>\n",
              "      <th>19</th>\n",
              "      <td>First Man</td>\n",
              "      <td>PG-13</td>\n",
              "      <td>0</td>\n",
              "      <td>A.O. SCOTT</td>\n",
              "      <td>Review: ‘First Man’ Takes a Giant Leap for Man...</td>\n",
              "      <td>Damien Chazelle’s sweeping and intimate yet un...</td>\n",
              "      <td>2018-10-10</td>\n",
              "      <td>2018-10-12</td>\n",
              "      <td>2018-10-17 02:44:18</td>\n",
              "      <td>{'type': 'article', 'url': 'http://www.nytimes...</td>\n",
              "      <td>{'type': 'mediumThreeByTwo210', 'src': 'https:...</td>\n",
              "    </tr>\n",
              "  </tbody>\n",
              "</table>\n",
              "</div>\n",
              "    <div class=\"colab-df-buttons\">\n",
              "\n",
              "  <div class=\"colab-df-container\">\n",
              "    <button class=\"colab-df-convert\" onclick=\"convertToInteractive('df-3e418a0d-dd17-4385-9a0a-35224f7fe553')\"\n",
              "            title=\"Convert this dataframe to an interactive table.\"\n",
              "            style=\"display:none;\">\n",
              "\n",
              "  <svg xmlns=\"http://www.w3.org/2000/svg\" height=\"24px\" viewBox=\"0 -960 960 960\">\n",
              "    <path d=\"M120-120v-720h720v720H120Zm60-500h600v-160H180v160Zm220 220h160v-160H400v160Zm0 220h160v-160H400v160ZM180-400h160v-160H180v160Zm440 0h160v-160H620v160ZM180-180h160v-160H180v160Zm440 0h160v-160H620v160Z\"/>\n",
              "  </svg>\n",
              "    </button>\n",
              "\n",
              "  <style>\n",
              "    .colab-df-container {\n",
              "      display:flex;\n",
              "      gap: 12px;\n",
              "    }\n",
              "\n",
              "    .colab-df-convert {\n",
              "      background-color: #E8F0FE;\n",
              "      border: none;\n",
              "      border-radius: 50%;\n",
              "      cursor: pointer;\n",
              "      display: none;\n",
              "      fill: #1967D2;\n",
              "      height: 32px;\n",
              "      padding: 0 0 0 0;\n",
              "      width: 32px;\n",
              "    }\n",
              "\n",
              "    .colab-df-convert:hover {\n",
              "      background-color: #E2EBFA;\n",
              "      box-shadow: 0px 1px 2px rgba(60, 64, 67, 0.3), 0px 1px 3px 1px rgba(60, 64, 67, 0.15);\n",
              "      fill: #174EA6;\n",
              "    }\n",
              "\n",
              "    .colab-df-buttons div {\n",
              "      margin-bottom: 4px;\n",
              "    }\n",
              "\n",
              "    [theme=dark] .colab-df-convert {\n",
              "      background-color: #3B4455;\n",
              "      fill: #D2E3FC;\n",
              "    }\n",
              "\n",
              "    [theme=dark] .colab-df-convert:hover {\n",
              "      background-color: #434B5C;\n",
              "      box-shadow: 0px 1px 3px 1px rgba(0, 0, 0, 0.15);\n",
              "      filter: drop-shadow(0px 1px 2px rgba(0, 0, 0, 0.3));\n",
              "      fill: #FFFFFF;\n",
              "    }\n",
              "  </style>\n",
              "\n",
              "    <script>\n",
              "      const buttonEl =\n",
              "        document.querySelector('#df-3e418a0d-dd17-4385-9a0a-35224f7fe553 button.colab-df-convert');\n",
              "      buttonEl.style.display =\n",
              "        google.colab.kernel.accessAllowed ? 'block' : 'none';\n",
              "\n",
              "      async function convertToInteractive(key) {\n",
              "        const element = document.querySelector('#df-3e418a0d-dd17-4385-9a0a-35224f7fe553');\n",
              "        const dataTable =\n",
              "          await google.colab.kernel.invokeFunction('convertToInteractive',\n",
              "                                                    [key], {});\n",
              "        if (!dataTable) return;\n",
              "\n",
              "        const docLinkHtml = 'Like what you see? Visit the ' +\n",
              "          '<a target=\"_blank\" href=https://colab.research.google.com/notebooks/data_table.ipynb>data table notebook</a>'\n",
              "          + ' to learn more about interactive tables.';\n",
              "        element.innerHTML = '';\n",
              "        dataTable['output_type'] = 'display_data';\n",
              "        await google.colab.output.renderOutput(dataTable, element);\n",
              "        const docLink = document.createElement('div');\n",
              "        docLink.innerHTML = docLinkHtml;\n",
              "        element.appendChild(docLink);\n",
              "      }\n",
              "    </script>\n",
              "  </div>\n",
              "\n",
              "\n",
              "<div id=\"df-559e7246-672e-4a2d-acc8-fd50c4698eb9\">\n",
              "  <button class=\"colab-df-quickchart\" onclick=\"quickchart('df-559e7246-672e-4a2d-acc8-fd50c4698eb9')\"\n",
              "            title=\"Suggest charts\"\n",
              "            style=\"display:none;\">\n",
              "\n",
              "<svg xmlns=\"http://www.w3.org/2000/svg\" height=\"24px\"viewBox=\"0 0 24 24\"\n",
              "     width=\"24px\">\n",
              "    <g>\n",
              "        <path d=\"M19 3H5c-1.1 0-2 .9-2 2v14c0 1.1.9 2 2 2h14c1.1 0 2-.9 2-2V5c0-1.1-.9-2-2-2zM9 17H7v-7h2v7zm4 0h-2V7h2v10zm4 0h-2v-4h2v4z\"/>\n",
              "    </g>\n",
              "</svg>\n",
              "  </button>\n",
              "\n",
              "<style>\n",
              "  .colab-df-quickchart {\n",
              "      --bg-color: #E8F0FE;\n",
              "      --fill-color: #1967D2;\n",
              "      --hover-bg-color: #E2EBFA;\n",
              "      --hover-fill-color: #174EA6;\n",
              "      --disabled-fill-color: #AAA;\n",
              "      --disabled-bg-color: #DDD;\n",
              "  }\n",
              "\n",
              "  [theme=dark] .colab-df-quickchart {\n",
              "      --bg-color: #3B4455;\n",
              "      --fill-color: #D2E3FC;\n",
              "      --hover-bg-color: #434B5C;\n",
              "      --hover-fill-color: #FFFFFF;\n",
              "      --disabled-bg-color: #3B4455;\n",
              "      --disabled-fill-color: #666;\n",
              "  }\n",
              "\n",
              "  .colab-df-quickchart {\n",
              "    background-color: var(--bg-color);\n",
              "    border: none;\n",
              "    border-radius: 50%;\n",
              "    cursor: pointer;\n",
              "    display: none;\n",
              "    fill: var(--fill-color);\n",
              "    height: 32px;\n",
              "    padding: 0;\n",
              "    width: 32px;\n",
              "  }\n",
              "\n",
              "  .colab-df-quickchart:hover {\n",
              "    background-color: var(--hover-bg-color);\n",
              "    box-shadow: 0 1px 2px rgba(60, 64, 67, 0.3), 0 1px 3px 1px rgba(60, 64, 67, 0.15);\n",
              "    fill: var(--button-hover-fill-color);\n",
              "  }\n",
              "\n",
              "  .colab-df-quickchart-complete:disabled,\n",
              "  .colab-df-quickchart-complete:disabled:hover {\n",
              "    background-color: var(--disabled-bg-color);\n",
              "    fill: var(--disabled-fill-color);\n",
              "    box-shadow: none;\n",
              "  }\n",
              "\n",
              "  .colab-df-spinner {\n",
              "    border: 2px solid var(--fill-color);\n",
              "    border-color: transparent;\n",
              "    border-bottom-color: var(--fill-color);\n",
              "    animation:\n",
              "      spin 1s steps(1) infinite;\n",
              "  }\n",
              "\n",
              "  @keyframes spin {\n",
              "    0% {\n",
              "      border-color: transparent;\n",
              "      border-bottom-color: var(--fill-color);\n",
              "      border-left-color: var(--fill-color);\n",
              "    }\n",
              "    20% {\n",
              "      border-color: transparent;\n",
              "      border-left-color: var(--fill-color);\n",
              "      border-top-color: var(--fill-color);\n",
              "    }\n",
              "    30% {\n",
              "      border-color: transparent;\n",
              "      border-left-color: var(--fill-color);\n",
              "      border-top-color: var(--fill-color);\n",
              "      border-right-color: var(--fill-color);\n",
              "    }\n",
              "    40% {\n",
              "      border-color: transparent;\n",
              "      border-right-color: var(--fill-color);\n",
              "      border-top-color: var(--fill-color);\n",
              "    }\n",
              "    60% {\n",
              "      border-color: transparent;\n",
              "      border-right-color: var(--fill-color);\n",
              "    }\n",
              "    80% {\n",
              "      border-color: transparent;\n",
              "      border-right-color: var(--fill-color);\n",
              "      border-bottom-color: var(--fill-color);\n",
              "    }\n",
              "    90% {\n",
              "      border-color: transparent;\n",
              "      border-bottom-color: var(--fill-color);\n",
              "    }\n",
              "  }\n",
              "</style>\n",
              "\n",
              "  <script>\n",
              "    async function quickchart(key) {\n",
              "      const quickchartButtonEl =\n",
              "        document.querySelector('#' + key + ' button');\n",
              "      quickchartButtonEl.disabled = true;  // To prevent multiple clicks.\n",
              "      quickchartButtonEl.classList.add('colab-df-spinner');\n",
              "      try {\n",
              "        const charts = await google.colab.kernel.invokeFunction(\n",
              "            'suggestCharts', [key], {});\n",
              "      } catch (error) {\n",
              "        console.error('Error during call to suggestCharts:', error);\n",
              "      }\n",
              "      quickchartButtonEl.classList.remove('colab-df-spinner');\n",
              "      quickchartButtonEl.classList.add('colab-df-quickchart-complete');\n",
              "    }\n",
              "    (() => {\n",
              "      let quickchartButtonEl =\n",
              "        document.querySelector('#df-559e7246-672e-4a2d-acc8-fd50c4698eb9 button');\n",
              "      quickchartButtonEl.style.display =\n",
              "        google.colab.kernel.accessAllowed ? 'block' : 'none';\n",
              "    })();\n",
              "  </script>\n",
              "</div>\n",
              "\n",
              "  <div id=\"id_140b4fbc-2e79-4214-9a69-b3609e269822\">\n",
              "    <style>\n",
              "      .colab-df-generate {\n",
              "        background-color: #E8F0FE;\n",
              "        border: none;\n",
              "        border-radius: 50%;\n",
              "        cursor: pointer;\n",
              "        display: none;\n",
              "        fill: #1967D2;\n",
              "        height: 32px;\n",
              "        padding: 0 0 0 0;\n",
              "        width: 32px;\n",
              "      }\n",
              "\n",
              "      .colab-df-generate:hover {\n",
              "        background-color: #E2EBFA;\n",
              "        box-shadow: 0px 1px 2px rgba(60, 64, 67, 0.3), 0px 1px 3px 1px rgba(60, 64, 67, 0.15);\n",
              "        fill: #174EA6;\n",
              "      }\n",
              "\n",
              "      [theme=dark] .colab-df-generate {\n",
              "        background-color: #3B4455;\n",
              "        fill: #D2E3FC;\n",
              "      }\n",
              "\n",
              "      [theme=dark] .colab-df-generate:hover {\n",
              "        background-color: #434B5C;\n",
              "        box-shadow: 0px 1px 3px 1px rgba(0, 0, 0, 0.15);\n",
              "        filter: drop-shadow(0px 1px 2px rgba(0, 0, 0, 0.3));\n",
              "        fill: #FFFFFF;\n",
              "      }\n",
              "    </style>\n",
              "    <button class=\"colab-df-generate\" onclick=\"generateWithVariable('df')\"\n",
              "            title=\"Generate code using this dataframe.\"\n",
              "            style=\"display:none;\">\n",
              "\n",
              "  <svg xmlns=\"http://www.w3.org/2000/svg\" height=\"24px\"viewBox=\"0 0 24 24\"\n",
              "       width=\"24px\">\n",
              "    <path d=\"M7,19H8.4L18.45,9,17,7.55,7,17.6ZM5,21V16.75L18.45,3.32a2,2,0,0,1,2.83,0l1.4,1.43a1.91,1.91,0,0,1,.58,1.4,1.91,1.91,0,0,1-.58,1.4L9.25,21ZM18.45,9,17,7.55Zm-12,3A5.31,5.31,0,0,0,4.9,8.1,5.31,5.31,0,0,0,1,6.5,5.31,5.31,0,0,0,4.9,4.9,5.31,5.31,0,0,0,6.5,1,5.31,5.31,0,0,0,8.1,4.9,5.31,5.31,0,0,0,12,6.5,5.46,5.46,0,0,0,6.5,12Z\"/>\n",
              "  </svg>\n",
              "    </button>\n",
              "    <script>\n",
              "      (() => {\n",
              "      const buttonEl =\n",
              "        document.querySelector('#id_140b4fbc-2e79-4214-9a69-b3609e269822 button.colab-df-generate');\n",
              "      buttonEl.style.display =\n",
              "        google.colab.kernel.accessAllowed ? 'block' : 'none';\n",
              "\n",
              "      buttonEl.onclick = () => {\n",
              "        google.colab.notebook.generateWithVariable('df');\n",
              "      }\n",
              "      })();\n",
              "    </script>\n",
              "  </div>\n",
              "\n",
              "    </div>\n",
              "  </div>\n"
            ],
            "application/vnd.google.colaboratory.intrinsic+json": {
              "type": "dataframe",
              "variable_name": "df",
              "summary": "{\n  \"name\": \"df\",\n  \"rows\": 20,\n  \"fields\": [\n    {\n      \"column\": \"display_title\",\n      \"properties\": {\n        \"dtype\": \"string\",\n        \"num_unique_values\": 20,\n        \"samples\": [\n          \"Can You Ever Forgive Me\",\n          \"Sadie\",\n          \"The Sentence\"\n        ],\n        \"semantic_type\": \"\",\n        \"description\": \"\"\n      }\n    },\n    {\n      \"column\": \"mpaa_rating\",\n      \"properties\": {\n        \"dtype\": \"category\",\n        \"num_unique_values\": 4,\n        \"samples\": [\n          \"\",\n          \"PG-13\",\n          \"R\"\n        ],\n        \"semantic_type\": \"\",\n        \"description\": \"\"\n      }\n    },\n    {\n      \"column\": \"critics_pick\",\n      \"properties\": {\n        \"dtype\": \"number\",\n        \"std\": 0,\n        \"min\": 0,\n        \"max\": 1,\n        \"num_unique_values\": 2,\n        \"samples\": [\n          0,\n          1\n        ],\n        \"semantic_type\": \"\",\n        \"description\": \"\"\n      }\n    },\n    {\n      \"column\": \"byline\",\n      \"properties\": {\n        \"dtype\": \"category\",\n        \"num_unique_values\": 7,\n        \"samples\": [\n          \"A.O. SCOTT\",\n          \"BEN KENIGSBERG\"\n        ],\n        \"semantic_type\": \"\",\n        \"description\": \"\"\n      }\n    },\n    {\n      \"column\": \"headline\",\n      \"properties\": {\n        \"dtype\": \"string\",\n        \"num_unique_values\": 20,\n        \"samples\": [\n          \"Review: Melissa McCarthy Is Criminally Good in \\u2018Can You Ever Forgive Me?\\u2019\",\n          \"Review: The Drama \\u2018Sadie\\u2019 Finds a Teenager in a Tough Situation\"\n        ],\n        \"semantic_type\": \"\",\n        \"description\": \"\"\n      }\n    },\n    {\n      \"column\": \"summary_short\",\n      \"properties\": {\n        \"dtype\": \"string\",\n        \"num_unique_values\": 20,\n        \"samples\": [\n          \"Marielle Heller directs a true story of literary fraud, set amid the bookstores and gay bars of early \\u201990s Manhattan.\",\n          \"The film stars Sophia Mitri Schloss as the title character, a 13-year-old girl who grows angry at the men who are courting her mother.\"\n        ],\n        \"semantic_type\": \"\",\n        \"description\": \"\"\n      }\n    },\n    {\n      \"column\": \"publication_date\",\n      \"properties\": {\n        \"dtype\": \"object\",\n        \"num_unique_values\": 3,\n        \"samples\": [\n          \"2018-10-16\",\n          \"2018-10-11\"\n        ],\n        \"semantic_type\": \"\",\n        \"description\": \"\"\n      }\n    },\n    {\n      \"column\": \"opening_date\",\n      \"properties\": {\n        \"dtype\": \"object\",\n        \"num_unique_values\": 4,\n        \"samples\": [\n          \"2018-04-22\",\n          \"2018-10-05\"\n        ],\n        \"semantic_type\": \"\",\n        \"description\": \"\"\n      }\n    },\n    {\n      \"column\": \"date_updated\",\n      \"properties\": {\n        \"dtype\": \"object\",\n        \"num_unique_values\": 11,\n        \"samples\": [\n          \"2018-10-17 02:44:20\",\n          \"2018-10-17 02:44:23\"\n        ],\n        \"semantic_type\": \"\",\n        \"description\": \"\"\n      }\n    },\n    {\n      \"column\": \"link\",\n      \"properties\": {\n        \"dtype\": \"object\",\n        \"semantic_type\": \"\",\n        \"description\": \"\"\n      }\n    },\n    {\n      \"column\": \"multimedia\",\n      \"properties\": {\n        \"dtype\": \"object\",\n        \"semantic_type\": \"\",\n        \"description\": \"\"\n      }\n    }\n  ]\n}"
            }
          },
          "metadata": {},
          "execution_count": 6
        }
      ],
      "source": [
        "# Run this cell without changes\n",
        "import pandas as pd\n",
        "df = pd.DataFrame(results)\n",
        "df"
      ]
    },
    {
      "cell_type": "markdown",
      "metadata": {
        "id": "qoGzNUujeyZz"
      },
      "source": [
        "## Data Analysis\n",
        "\n",
        "Now that you have a general sense of the data, answer some questions about it.\n",
        "\n",
        "### How many results are in the file?\n",
        "\n",
        "The metadata says this:"
      ]
    },
    {
      "cell_type": "code",
      "execution_count": 7,
      "metadata": {
        "colab": {
          "base_uri": "https://localhost:8080/"
        },
        "id": "P-XRAGdVeyZz",
        "outputId": "a02ca246-8694-43cb-d66d-6c0364b16d79"
      },
      "outputs": [
        {
          "output_type": "execute_result",
          "data": {
            "text/plain": [
              "20"
            ]
          },
          "metadata": {},
          "execution_count": 7
        }
      ],
      "source": [
        "# Run this cell without changes\n",
        "data['num_results']"
      ]
    },
    {
      "cell_type": "markdown",
      "metadata": {
        "id": "Fudu4cv6eyZz"
      },
      "source": [
        "Double-check that by looking at `results`. Does it line up?"
      ]
    },
    {
      "cell_type": "code",
      "execution_count": 8,
      "metadata": {
        "colab": {
          "base_uri": "https://localhost:8080/"
        },
        "id": "Zr4CaRaEeyZ0",
        "outputId": "8b67e1b7-8e36-4fdd-af59-9602c1045e70"
      },
      "outputs": [
        {
          "output_type": "stream",
          "name": "stdout",
          "text": [
            "The length of `results` is 20\n",
            "That length equals the 'num_results value?' True\n"
          ]
        }
      ],
      "source": [
        "# Your code here\n",
        "print(\"The length of `results` is\", len(results))\n",
        "print(\"That length equals the 'num_results value?'\", len(results) == data['num_results'])"
      ]
    },
    {
      "cell_type": "code",
      "source": [
        "\"\"\"\n",
        "Yes, the length of the `results` list matches the 'num_results'\n",
        "reported by the metadata\n",
        "\"\"\""
      ],
      "metadata": {
        "colab": {
          "base_uri": "https://localhost:8080/",
          "height": 36
        },
        "id": "h47bUq0mghJK",
        "outputId": "4f7d34c0-a09f-446a-8476-1f5db53c5db9"
      },
      "execution_count": 9,
      "outputs": [
        {
          "output_type": "execute_result",
          "data": {
            "text/plain": [
              "\"\\nYes, the length of the `results` list matches the 'num_results'\\nreported by the metadata\\n\""
            ],
            "application/vnd.google.colaboratory.intrinsic+json": {
              "type": "string"
            }
          },
          "metadata": {},
          "execution_count": 9
        }
      ]
    },
    {
      "cell_type": "markdown",
      "metadata": {
        "id": "9UwpvRKoeyZ0"
      },
      "source": [
        "### How many unique critics are there?\n",
        "\n",
        "A critic's name can be identified using the `'byline'` key. Assign your answer to the variable `unique_critics`."
      ]
    },
    {
      "cell_type": "code",
      "execution_count": 10,
      "metadata": {
        "colab": {
          "base_uri": "https://localhost:8080/"
        },
        "id": "ounfUhyHeyZ0",
        "outputId": "bcafce39-d5da-4704-de87-60201a7e1fec"
      },
      "outputs": [
        {
          "output_type": "execute_result",
          "data": {
            "text/plain": [
              "7"
            ]
          },
          "metadata": {},
          "execution_count": 10
        }
      ],
      "source": [
        "# Your code here\n",
        "\n",
        "# Base Python solution:\n",
        "unique_critics_set = set()\n",
        "for result in results:\n",
        "    unique_critics_set.add(result[\"byline\"])\n",
        "unique_critics = len(unique_critics_set)\n",
        "\n",
        "# Pandas solution\n",
        "unique_critics = df[\"byline\"].nunique()\n",
        "\n",
        "unique_critics"
      ]
    },
    {
      "cell_type": "markdown",
      "metadata": {
        "id": "4XVJbPIweyZ0"
      },
      "source": [
        "This code checks your answer."
      ]
    },
    {
      "cell_type": "code",
      "execution_count": 11,
      "metadata": {
        "id": "0R9De618eyZ0"
      },
      "outputs": [],
      "source": [
        "# Run this cell without changes\n",
        "assert unique_critics == 7"
      ]
    },
    {
      "cell_type": "markdown",
      "metadata": {
        "id": "HUz5mj31eyZ1"
      },
      "source": [
        "## Flattening Data\n",
        "\n",
        "Create a list `review_urls` that contains the URL for each review. This can be found using the `'url'` key nested under `'link'`."
      ]
    },
    {
      "cell_type": "code",
      "execution_count": 12,
      "metadata": {
        "colab": {
          "base_uri": "https://localhost:8080/"
        },
        "id": "_gJNY46CeyZ1",
        "outputId": "d537e01a-2cdb-48e6-c693-db810884be1a"
      },
      "outputs": [
        {
          "output_type": "execute_result",
          "data": {
            "text/plain": [
              "{'type': 'article',\n",
              " 'url': 'http://www.nytimes.com/2018/10/16/movies/can-you-ever-forgive-me-review-melissa-mccarthy.html',\n",
              " 'suggested_link_text': 'Read the New York Times Review of Can You Ever Forgive Me'}"
            ]
          },
          "metadata": {},
          "execution_count": 12
        }
      ],
      "source": [
        "# Your code here (create more cells as needed)\n",
        "\n",
        "# First, exploring the structure a bit more to make\n",
        "# sure we understand it\n",
        "\n",
        "results[0]['link']"
      ]
    },
    {
      "cell_type": "code",
      "source": [
        "\n",
        "# First, exploring the structure a bit more to make\n",
        "# sure we understand it\n",
        "\n",
        "results[0]['link']"
      ],
      "metadata": {
        "colab": {
          "base_uri": "https://localhost:8080/"
        },
        "id": "QSVYzZxng6Bf",
        "outputId": "1c054283-e1ac-467d-8433-d22b09034c97"
      },
      "execution_count": 14,
      "outputs": [
        {
          "output_type": "execute_result",
          "data": {
            "text/plain": [
              "{'type': 'article',\n",
              " 'url': 'http://www.nytimes.com/2018/10/16/movies/can-you-ever-forgive-me-review-melissa-mccarthy.html',\n",
              " 'suggested_link_text': 'Read the New York Times Review of Can You Ever Forgive Me'}"
            ]
          },
          "metadata": {},
          "execution_count": 14
        }
      ]
    },
    {
      "cell_type": "code",
      "source": [
        "\n",
        "# In base Python, we can make the list with list comprehension\n",
        "review_urls = [result['link']['url'] for result in results]\n",
        "review_urls"
      ],
      "metadata": {
        "colab": {
          "base_uri": "https://localhost:8080/"
        },
        "id": "8eSTCkfHg8a7",
        "outputId": "2c5d0183-5275-4cff-8d31-24d64f40b125"
      },
      "execution_count": 15,
      "outputs": [
        {
          "output_type": "execute_result",
          "data": {
            "text/plain": [
              "['http://www.nytimes.com/2018/10/16/movies/can-you-ever-forgive-me-review-melissa-mccarthy.html',\n",
              " 'http://www.nytimes.com/2018/10/16/movies/charm-city-review-baltimore.html',\n",
              " 'http://www.nytimes.com/2018/10/16/movies/horn-from-the-heart-review-paul-butterfield.html',\n",
              " 'http://www.nytimes.com/2018/10/16/movies/the-price-of-everything-review-documentary.html',\n",
              " 'http://www.nytimes.com/2018/10/16/movies/impulso-review-documentary.html',\n",
              " 'http://www.nytimes.com/2018/10/11/movies/watergate-review-documentary.html',\n",
              " 'http://www.nytimes.com/2018/10/11/movies/barbara-review.html',\n",
              " 'http://www.nytimes.com/2018/10/11/movies/over-the-limit-review.html',\n",
              " 'http://www.nytimes.com/2018/10/11/movies/the-kindergarten-teacher-review.html',\n",
              " 'http://www.nytimes.com/2018/10/11/movies/classical-period-review.html',\n",
              " 'http://www.nytimes.com/2018/10/11/movies/bad-times-at-the-el-royale-review.html',\n",
              " 'http://www.nytimes.com/2018/10/11/movies/beautiful-boy-review-steve-carell.html',\n",
              " 'http://www.nytimes.com/2018/10/11/movies/the-oath-review-tiffany-haddish.html',\n",
              " 'http://www.nytimes.com/2018/10/11/movies/bikini-moon-review.html',\n",
              " 'http://www.nytimes.com/2018/10/11/movies/goosebumps-2-haunted-halloween-review.html',\n",
              " 'http://www.nytimes.com/2018/10/11/movies/the-sentence-review.html',\n",
              " 'http://www.nytimes.com/2018/10/11/movies/all-square-review.html',\n",
              " 'http://www.nytimes.com/2018/10/11/movies/sadie-review.html',\n",
              " 'http://www.nytimes.com/2018/10/11/movies/after-everything-review.html',\n",
              " 'http://www.nytimes.com/2018/10/10/movies/first-man-review-ryan-gosling-damien-chazelle.html']"
            ]
          },
          "metadata": {},
          "execution_count": 15
        }
      ]
    },
    {
      "cell_type": "markdown",
      "metadata": {
        "id": "9VH6CKk9eyZ1"
      },
      "source": [
        "The following code will check your answer:"
      ]
    },
    {
      "cell_type": "code",
      "execution_count": 16,
      "metadata": {
        "id": "phXns8BEeyZ1"
      },
      "outputs": [],
      "source": [
        "# Run this cell without changes\n",
        "\n",
        "# review_urls should be a list\n",
        "assert type(review_urls) == list\n",
        "\n",
        "# The length should be 20, same as the length of reviews\n",
        "assert len(review_urls) == 20\n",
        "\n",
        "# The data type contained should be string\n",
        "assert type(review_urls[0]) == str and type(review_urls[-1]) == str\n",
        "\n",
        "# Spot checking a specific value\n",
        "assert review_urls[6] == 'http://www.nytimes.com/2018/10/11/movies/barbara-review.html'"
      ]
    },
    {
      "cell_type": "markdown",
      "metadata": {
        "id": "r-b0pvpGeyZ1"
      },
      "source": [
        "## Summary\n",
        "In this lab you practiced extracting and transforming data from JSON files with known schemas."
      ]
    }
  ],
  "metadata": {
    "kernelspec": {
      "display_name": "Python (learn-env)",
      "language": "python",
      "name": "learn-env"
    },
    "language_info": {
      "codemirror_mode": {
        "name": "ipython",
        "version": 3
      },
      "file_extension": ".py",
      "mimetype": "text/x-python",
      "name": "python",
      "nbconvert_exporter": "python",
      "pygments_lexer": "ipython3",
      "version": "3.8.5"
    },
    "toc": {
      "base_numbering": 1,
      "nav_menu": {},
      "number_sections": true,
      "sideBar": true,
      "skip_h1_title": false,
      "title_cell": "Table of Contents",
      "title_sidebar": "Contents",
      "toc_cell": false,
      "toc_position": {},
      "toc_section_display": true,
      "toc_window_display": false
    },
    "colab": {
      "provenance": [],
      "include_colab_link": true
    }
  },
  "nbformat": 4,
  "nbformat_minor": 0
}